{
  "nbformat": 4,
  "nbformat_minor": 0,
  "metadata": {
    "colab": {
      "provenance": []
    },
    "kernelspec": {
      "name": "python3",
      "display_name": "Python 3"
    },
    "language_info": {
      "name": "python"
    }
  },
  "cells": [
    {
      "cell_type": "code",
      "execution_count": null,
      "metadata": {
        "id": "Donb6Bs_JQcY"
      },
      "outputs": [],
      "source": [
        "! pip install streamlit\n",
        "! pip install pyngrok"
      ]
    },
    {
      "cell_type": "code",
      "source": [
        "Download https://github.com/UB-Mannheim/tesseract/wiki [tesseract OCR Optical Character recognation]"
      ],
      "metadata": {
        "id": "RS0e02rUKKyg"
      },
      "execution_count": null,
      "outputs": []
    },
    {
      "cell_type": "code",
      "source": [
        "# install on colab\n",
        "! sudo apt-get install tesseract-ocr\n",
        "! pip install pytesseract"
      ],
      "metadata": {
        "id": "lnf5Ol2fLCsr"
      },
      "execution_count": null,
      "outputs": []
    },
    {
      "cell_type": "code",
      "source": [
        "%%writefile Business_Card_Scanner.py\n",
        "import streamlit as st\n",
        "import pytesseract\n",
        "import numpy as np\n",
        "from PIL import Image\n",
        "\n",
        "st.title('Welcome To Business Card Scanner')\n",
        "uploaded_img = st.file_uploader('Please Upload An Image to Scan !' , type = ['jpg','jpeg','png'] )\n",
        "\n",
        "# Load Model\n",
        "pytesseract.pytesseract.tesseract_cmd = r'/usr/bin/tesseract'\n",
        "# Extract Features (Text) from image\n",
        "def extract_text(img):\n",
        "  text = pytesseract.image_to_string(img)\n",
        "  return text\n",
        "\n",
        "# ,  and use model to extract text\n",
        "if uploaded_img is not None:\n",
        "  # read\n",
        "  readed_image = Image.open(uploaded_img)\n",
        "  # convert image to array\n",
        "  img_arr = np.array(readed_image)\n",
        "  # show\n",
        "  st.image(img_arr , caption= 'Uploaded Image !' , use_column_width = True)\n",
        "\n",
        "  # use model with spinner\n",
        "  with st.spinner('Extracting Text From Image ...'):\n",
        "    extracted_text = extract_text(img_arr)\n",
        "    st.subheader('Extracted Text !')\n",
        "    #st.write(extracted_text)\n",
        "\n",
        "    # When there is constant image\n",
        "    text_list = extracted_text.splitlines()\n",
        "    st.write('Company Name: ' , text_list[0] , text_list[1])\n",
        "    st.write('ID :', text_list[3].translate(str.maketrans('', '', 'abcdefghijklmnopqrstuvwxyzABCDEFGHIJKLMNOPQRSTUVWXYZ')))\n",
        "    st.write( text_list[4])\n",
        "    st.write( text_list[5])\n",
        "    st.write( text_list[6])\n",
        "    st.write( text_list[6])\n"
      ],
      "metadata": {
        "colab": {
          "base_uri": "https://localhost:8080/"
        },
        "id": "KmnFkfMyJZhI",
        "outputId": "1068a26c-c21c-41d7-c11d-a141390b681a"
      },
      "execution_count": null,
      "outputs": [
        {
          "output_type": "stream",
          "name": "stdout",
          "text": [
            "Overwriting Business_Card_Scanner.py\n"
          ]
        }
      ]
    },
    {
      "cell_type": "code",
      "source": [
        "from pyngrok import ngrok\n",
        "# https://dashboard.ngrok.com/get-started/your-authtoken\n",
        "! ngrok authtoken 'Your Auth Key'\n",
        "! streamlit run Business_Card_Scanner.py &>/dev/null&\n",
        "!pgrep -f streamlit\n",
        "puplic_url = ngrok.connect('8501')\n",
        "print(puplic_url)"
      ],
      "metadata": {
        "colab": {
          "base_uri": "https://localhost:8080/"
        },
        "id": "5EiwuH2_JZbQ",
        "outputId": "c416101c-be00-4c4b-bffa-cd26418e86cb"
      },
      "execution_count": null,
      "outputs": [
        {
          "output_type": "stream",
          "name": "stdout",
          "text": [
            "Authtoken saved to configuration file: /root/.config/ngrok/ngrok.yml\n",
            "3185\n",
            "NgrokTunnel: \"https://1297-35-230-115-14.ngrok-free.app\" -> \"http://localhost:8501\"\n"
          ]
        }
      ]
    },
    {
      "cell_type": "code",
      "source": [
        "import subprocess\n",
        "\n",
        "# Kill any existing ngrok processes\n",
        "subprocess.run([\"pkill\", \"ngrok\"])"
      ],
      "metadata": {
        "colab": {
          "base_uri": "https://localhost:8080/"
        },
        "id": "HsZKp5GlJbIl",
        "outputId": "1304c1d2-5fb1-4dd2-bd6b-22efa8f7c83d"
      },
      "execution_count": null,
      "outputs": [
        {
          "output_type": "execute_result",
          "data": {
            "text/plain": [
              "CompletedProcess(args=['pkill', 'ngrok'], returncode=0)"
            ]
          },
          "metadata": {},
          "execution_count": 39
        }
      ]
    },
    {
      "cell_type": "code",
      "source": [],
      "metadata": {
        "id": "zqBjlSMFeoSG"
      },
      "execution_count": null,
      "outputs": []
    }
  ]
}